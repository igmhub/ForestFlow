{
 "cells": [
  {
   "cell_type": "markdown",
   "id": "88415284",
   "metadata": {},
   "source": [
    "# Chains to file\n",
    "Subsample all chains"
   ]
  },
  {
   "cell_type": "code",
   "execution_count": 1,
   "id": "469bd86e-00b9-4098-b008-ff26ae33a0d0",
   "metadata": {
    "tags": []
   },
   "outputs": [
    {
     "name": "stderr",
     "output_type": "stream",
     "text": [
      "DEBUG:jupyter_black:config: {'line_length': 79, 'target_versions': {<TargetVersion.PY310: 10>}}\n"
     ]
    },
    {
     "data": {
      "application/javascript": [
       "\n",
       "            (function() {\n",
       "                jb_set_cell(\"# in PIC\\nfolder_chains = \\\"/data/desi/scratch/jchavesm/p3d_fits_new/\\\"\\n# local\\nfolder_chains = (\\n    \\\"/home/jchaves/Proyectos/projects/lya/data/pkfits/p3d_fits_new/\\\"\\n)\\n\\nfor ind_book in range(0, len(training_data)):\\n    # for ind_book in range(100, 101):\\n    scale_tau = training_data[ind_book][\\\"val_scaling\\\"]\\n    ind_z = training_data[ind_book][\\\"z\\\"]\\n    sim_label = training_data[ind_book][\\\"sim_label\\\"]\\n\\n    tag = (\\n        \\\"fit_sim\\\"\\n        + sim_label[4:]\\n        + \\\"_tau\\\"\\n        + str(np.round(scale_tau, 2))\\n        + \\\"_z\\\"\\n        + str(ind_z)\\n        + \\\"_kmax3d\\\"\\n        + str(Archive3D.kmax_3d)\\n        + \\\"_noise3d\\\"\\n        + str(Archive3D.noise_3d)\\n        + \\\"_kmax1d\\\"\\n        + str(Archive3D.kmax_1d)\\n        + \\\"_noise1d\\\"\\n        + str(Archive3D.noise_1d)\\n    )\\n    # check folder is not None\\n    file_arinyo = np.load(folder_chains + tag + \\\".npz\\\")\\n    chain = file_arinyo[\\\"chain\\\"].copy()\\n    chain[:, 0] = -np.abs(chain[:, 0])\\n    best = file_arinyo[\\\"best_params\\\"].copy()\\n    best[0] = -np.abs(best[0])\\n\\n    ind = np.random.permutation(chain.shape[0])[:nelem]\\n\\n    out_chain[ind_book, ...] = chain[ind]\\n    out_best[ind_book, :] = best\\n    out_percen[ind_book, ...] = np.percentile(chain, [25, 50, 75], axis=0).T\")\n",
       "            })();\n",
       "            "
      ],
      "text/plain": [
       "<IPython.core.display.Javascript object>"
      ]
     },
     "metadata": {},
     "output_type": "display_data"
    },
    {
     "name": "stdout",
     "output_type": "stream",
     "text": [
      "/home/jchaves/Proyectos/projects/lya/lya_pk/\n"
     ]
    }
   ],
   "source": [
    "# %load first_cell.py\n",
    "%load_ext autoreload\n",
    "%autoreload 2\n",
    "%matplotlib notebook\n",
    "\n",
    "import black\n",
    "import jupyter_black\n",
    "\n",
    "jupyter_black.load(\n",
    "    lab=False,\n",
    "    line_length=79,\n",
    "    verbosity=\"DEBUG\",\n",
    "    target_version=black.TargetVersion.PY310,\n",
    ")\n",
    "\n",
    "import numpy as np\n",
    "import os\n",
    "import sys\n",
    "import matplotlib.pyplot as plt\n",
    "\n",
    "from astropy.cosmology import FlatLambdaCDM\n",
    "\n",
    "cosmo = FlatLambdaCDM(H0=67.26, Om0=0.314, Ob0=0.049)\n",
    "\n",
    "from matplotlib import rcParams\n",
    "rcParams[\"mathtext.fontset\"] = \"stix\"\n",
    "rcParams[\"font.family\"] = \"STIXGeneral\"\n",
    "\n",
    "\n",
    "def print_shape(*args):\n",
    "    nelem = len(args)\n",
    "    for ii in range(nelem - 1):\n",
    "        print(args[ii].shape, end=\" \")\n",
    "    print(args[nelem - 1].shape)\n",
    "\n",
    "\n",
    "def ls_level(folder, nlevels):\n",
    "    for ii in range(nlevels):\n",
    "        folder = os.path.dirname(folder)\n",
    "    folder += \"/\"\n",
    "    return folder\n",
    "\n",
    "\n",
    "path_program = ls_level(os.getcwd(), 1)\n",
    "print(path_program)\n",
    "sys.path.append(path_program)"
   ]
  },
  {
   "cell_type": "code",
   "execution_count": 3,
   "id": "22023734",
   "metadata": {},
   "outputs": [
    {
     "name": "stdout",
     "output_type": "stream",
     "text": [
      "1650\n"
     ]
    }
   ],
   "source": [
    "from lya_pk.archive import GadgetArchive3D\n",
    "\n",
    "folder_lya_data = path_program + \"data/best_arinyo/\"\n",
    "\n",
    "Archive3D = GadgetArchive3D(\n",
    "    base_folder=path_program, folder_data=folder_lya_data\n",
    ")\n",
    "print(len(Archive3D.training_data))"
   ]
  },
  {
   "cell_type": "markdown",
   "id": "b8a6788e",
   "metadata": {},
   "source": [
    "## Load a chain from central"
   ]
  },
  {
   "cell_type": "code",
   "execution_count": 4,
   "id": "a84a61f7",
   "metadata": {},
   "outputs": [],
   "source": [
    "training_data = Archive3D.training_data"
   ]
  },
  {
   "cell_type": "code",
   "execution_count": 59,
   "id": "03509860",
   "metadata": {},
   "outputs": [],
   "source": [
    "nelem = 500\n",
    "nparams = 8\n",
    "out_chain = np.zeros((len(training_data), nelem, nparams))\n",
    "out_best = np.zeros((len(training_data), nparams))\n",
    "out_percen = np.zeros((len(training_data), nparams, 3))"
   ]
  },
  {
   "cell_type": "code",
   "execution_count": 78,
   "id": "620e7f54",
   "metadata": {},
   "outputs": [],
   "source": [
    "# in PIC\n",
    "folder_chains = \"/data/desi/scratch/jchavesm/p3d_fits_new/\"\n",
    "# local\n",
    "folder_chains = (\n",
    "    \"/home/jchaves/Proyectos/projects/lya/data/pkfits/p3d_fits_new/\"\n",
    ")\n",
    "\n",
    "for ind_book in range(0, len(training_data)):\n",
    "    # for ind_book in range(100, 101):\n",
    "    scale_tau = training_data[ind_book][\"val_scaling\"]\n",
    "    ind_z = training_data[ind_book][\"z\"]\n",
    "    sim_label = training_data[ind_book][\"sim_label\"]\n",
    "\n",
    "    tag = (\n",
    "        \"fit_sim\"\n",
    "        + sim_label[4:]\n",
    "        + \"_tau\"\n",
    "        + str(np.round(scale_tau, 2))\n",
    "        + \"_z\"\n",
    "        + str(ind_z)\n",
    "        + \"_kmax3d\"\n",
    "        + str(Archive3D.kmax_3d)\n",
    "        + \"_noise3d\"\n",
    "        + str(Archive3D.noise_3d)\n",
    "        + \"_kmax1d\"\n",
    "        + str(Archive3D.kmax_1d)\n",
    "        + \"_noise1d\"\n",
    "        + str(Archive3D.noise_1d)\n",
    "    )\n",
    "    # check folder is not None\n",
    "    file_arinyo = np.load(folder_chains + tag + \".npz\")\n",
    "    chain = file_arinyo[\"chain\"].copy()\n",
    "    chain[:, 0] = -np.abs(chain[:, 0])\n",
    "    best = file_arinyo[\"best_params\"].copy()\n",
    "    best[0] = -np.abs(best[0])\n",
    "\n",
    "    ind = np.random.permutation(chain.shape[0])[:nelem]\n",
    "\n",
    "    out_chain[ind_book, ...] = chain[ind]\n",
    "    out_best[ind_book, :] = best\n",
    "    out_percen[ind_book, ...] = np.percentile(chain, [25, 50, 75], axis=0).T"
   ]
  },
  {
   "cell_type": "code",
   "execution_count": 79,
   "id": "6d71fde3",
   "metadata": {},
   "outputs": [],
   "source": [
    "np.savez(\n",
    "    \"subsamp_chains_mpg_hyp\",\n",
    "    chains=out_chain,\n",
    "    best=out_best,\n",
    "    percen_25_50_75=out_percen,\n",
    ")"
   ]
  },
  {
   "cell_type": "code",
   "execution_count": 80,
   "id": "c2e9113c",
   "metadata": {},
   "outputs": [],
   "source": [
    "res = np.load(\"subsamp_chains_mpg_hyp.npz\")"
   ]
  },
  {
   "cell_type": "code",
   "execution_count": 81,
   "id": "87987c8e",
   "metadata": {},
   "outputs": [
    {
     "data": {
      "text/plain": [
       "['chains', 'best', 'percen_25_50_75']"
      ]
     },
     "execution_count": 81,
     "metadata": {},
     "output_type": "execute_result"
    }
   ],
   "source": [
    "res.files"
   ]
  }
 ],
 "metadata": {
  "kernelspec": {
   "display_name": "Python 3 (ipykernel)",
   "language": "python",
   "name": "python3"
  },
  "language_info": {
   "codemirror_mode": {
    "name": "ipython",
    "version": 3
   },
   "file_extension": ".py",
   "mimetype": "text/x-python",
   "name": "python",
   "nbconvert_exporter": "python",
   "pygments_lexer": "ipython3",
   "version": "3.9.13"
  }
 },
 "nbformat": 4,
 "nbformat_minor": 5
}
