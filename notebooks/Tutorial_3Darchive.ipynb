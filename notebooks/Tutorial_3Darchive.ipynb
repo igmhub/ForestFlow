{
 "cells": [
  {
   "cell_type": "markdown",
   "id": "03896de9-3033-4a0a-a64c-737a566e8164",
   "metadata": {},
   "source": [
    "# TUTORIAL FOR THE P3D EMULATOR (FORESTFLOW)"
   ]
  },
  {
   "cell_type": "code",
   "execution_count": 1,
   "id": "ae5d0d87-d42b-4f62-bb9c-55b832d41a43",
   "metadata": {
    "tags": []
   },
   "outputs": [],
   "source": [
    "import sys\n",
    "import os\n",
    "import matplotlib.pyplot as plt"
   ]
  },
  {
   "cell_type": "code",
   "execution_count": 2,
   "id": "e35253c9-2f4f-40f5-a753-fe746c265d58",
   "metadata": {
    "tags": []
   },
   "outputs": [],
   "source": [
    "from ForestFlow.archive import GadgetArchive3D"
   ]
  },
  {
   "cell_type": "code",
   "execution_count": 3,
   "id": "e47e5617-d4fd-4423-8abd-ab3260e0f394",
   "metadata": {
    "tags": []
   },
   "outputs": [
    {
     "name": "stdout",
     "output_type": "stream",
     "text": [
      "/global/u1/l/lcabayol/P3D/ForestFlow/\n"
     ]
    }
   ],
   "source": [
    "def ls_level(folder, nlevels):\n",
    "    for ii in range(nlevels):\n",
    "        folder = os.path.dirname(folder)\n",
    "    folder += \"/\"\n",
    "    return folder\n",
    "\n",
    "path_program = ls_level(os.getcwd(), 1)\n",
    "print(path_program)\n",
    "sys.path.append(path_program)"
   ]
  },
  {
   "cell_type": "markdown",
   "id": "f7169f99-3529-4012-bf70-eafd5adcd615",
   "metadata": {},
   "source": [
    "## LOAD P3D ARCHIVE "
   ]
  },
  {
   "cell_type": "code",
   "execution_count": 5,
   "id": "38c18ac7-dfaa-4e76-b804-aed117e9cf7b",
   "metadata": {
    "tags": []
   },
   "outputs": [
    {
     "name": "stdout",
     "output_type": "stream",
     "text": [
      "1650\n",
      "CPU times: user 57.7 s, sys: 2.6 s, total: 1min\n",
      "Wall time: 1min 5s\n"
     ]
    }
   ],
   "source": [
    "%%time\n",
    "folder_lya_data = path_program +  \"/data/best_arinyo/\"\n",
    "\n",
    "Archive3D = GadgetArchive3D(\n",
    "    base_folder=path_program[:-1], \n",
    "    folder_data=folder_lya_data, \n",
    "    force_recompute_plin=True,\n",
    "    average='both'\n",
    ")\n",
    "print(len(Archive3D.training_data))\n"
   ]
  },
  {
   "cell_type": "markdown",
   "id": "fbe54fbd-7f10-487a-a1ad-d334955b6bf1",
   "metadata": {
    "tags": []
   },
   "source": [
    "## GET TRAINING DATA"
   ]
  },
  {
   "cell_type": "markdown",
   "id": "e5268189-fdc3-4909-9b67-42ef9d8870c3",
   "metadata": {},
   "source": [
    "#### This consists of 30 simulations, with 11 snapshots per simulation within 2 < z < 4.5 and 5 mean-flux rescalings per snapshot"
   ]
  },
  {
   "cell_type": "code",
   "execution_count": 10,
   "id": "5592669d-3ee4-4c92-bfb1-994a82d3173b",
   "metadata": {
    "tags": []
   },
   "outputs": [],
   "source": [
    "training_data = Archive3D.get_training_data(Archive3D.emu_params)"
   ]
  },
  {
   "cell_type": "markdown",
   "id": "1895b11c-2b60-427d-98d7-8a5a8a5d6547",
   "metadata": {},
   "source": [
    "## GET TESTING DATA"
   ]
  },
  {
   "cell_type": "markdown",
   "id": "67e9c4cc-8636-4400-ab06-17609c9fe00c",
   "metadata": {
    "tags": []
   },
   "source": [
    "#### There are 6 test simulations:\n",
    "#### - central simulations (mpg_central): simulations centered at the training Latin hypercube simulations\n",
    "#### - seed simulations (mpg_seed): simulations centered at the training Latin hypercube simulations with different initial conditions\n",
    "#### - growth simulation (mpg_growth): Simulation with a different growth rate than the training simulations\n",
    "#### - neutrinos simulation (mpg_neutrinos): Simulations with massive neutrinos \n",
    "#### - running simulations (mpg_running): Simulation with a different running of the spectral index.\n",
    "#### - reionization simulations (mpg_reio): Simulation with a different HeII reionization history"
   ]
  },
  {
   "cell_type": "code",
   "execution_count": 12,
   "id": "21e034b5-0d7b-42f0-900a-a64806aa1d2c",
   "metadata": {},
   "outputs": [],
   "source": [
    "central = Archive3D.get_testing_data(\n",
    "    \"mpg_central\", force_recompute_plin=True\n",
    ")"
   ]
  },
  {
   "cell_type": "code",
   "execution_count": 20,
   "id": "109ab26e-21aa-4c76-9260-2d349a38bf3e",
   "metadata": {},
   "outputs": [],
   "source": [
    "neutrinos = Archive3D.get_testing_data(\n",
    "    \"mpg_neutrinos\", force_recompute_plin=True\n",
    ")"
   ]
  },
  {
   "cell_type": "code",
   "execution_count": null,
   "id": "69560c34-4a63-4760-8f49-06180832c280",
   "metadata": {},
   "outputs": [],
   "source": []
  },
  {
   "cell_type": "code",
   "execution_count": null,
   "id": "66c1ac43-5d2e-4ce8-ac5b-f81cf367aa0b",
   "metadata": {},
   "outputs": [],
   "source": []
  }
 ],
 "metadata": {
  "kernelspec": {
   "display_name": "ForestFlow",
   "language": "python",
   "name": "forestflow"
  },
  "language_info": {
   "codemirror_mode": {
    "name": "ipython",
    "version": 3
   },
   "file_extension": ".py",
   "mimetype": "text/x-python",
   "name": "python",
   "nbconvert_exporter": "python",
   "pygments_lexer": "ipython3",
   "version": "3.11.5"
  }
 },
 "nbformat": 4,
 "nbformat_minor": 5
}
