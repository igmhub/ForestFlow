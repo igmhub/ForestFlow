{
 "cells": [
  {
   "cell_type": "markdown",
   "id": "621b712e",
   "metadata": {},
   "source": [
    "# TUTORIAL FOR THE P3D EMULATOR (forestflow)"
   ]
  },
  {
   "cell_type": "code",
   "execution_count": null,
   "id": "ed65980c",
   "metadata": {},
   "outputs": [],
   "source": [
    "import sys\n",
    "import os\n",
    "import matplotlib.pyplot as plt"
   ]
  },
  {
   "cell_type": "code",
   "execution_count": null,
   "id": "d7556d39",
   "metadata": {},
   "outputs": [],
   "source": [
    "from forestflow.archive import GadgetArchive3D"
   ]
  },
  {
   "cell_type": "code",
   "execution_count": null,
   "id": "09e50784",
   "metadata": {},
   "outputs": [],
   "source": [
    "def ls_level(folder, nlevels):\n",
    "    for ii in range(nlevels):\n",
    "        folder = os.path.dirname(folder)\n",
    "    folder += \"/\"\n",
    "    return folder\n",
    "\n",
    "\n",
    "path_program = ls_level(os.getcwd(), 1)\n",
    "print(path_program)\n",
    "sys.path.append(path_program)"
   ]
  },
  {
   "cell_type": "markdown",
   "id": "ce3c6fef",
   "metadata": {},
   "source": [
    "## LOAD P3D ARCHIVE"
   ]
  },
  {
   "cell_type": "code",
   "execution_count": null,
   "id": "f8cc7cc6",
   "metadata": {
    "lines_to_next_cell": 2
   },
   "outputs": [],
   "source": [
    "%%time\n",
    "folder_lya_data = path_program + \"/data/best_arinyo/\"\n",
    "\n",
    "Archive3D = GadgetArchive3D(\n",
    "    base_folder=path_program[:-1],\n",
    "    folder_data=folder_lya_data,\n",
    "    average=\"both\",\n",
    ")\n",
    "print(len(Archive3D.training_data))"
   ]
  },
  {
   "cell_type": "markdown",
   "id": "0401b32a",
   "metadata": {},
   "source": [
    "## GET TRAINING DATA"
   ]
  },
  {
   "cell_type": "markdown",
   "id": "0e6f5e04",
   "metadata": {},
   "source": [
    "#### This consists of 30 simulations, with 11 snapshots per simulation within 2 < z < 4.5 and 5 mean-flux rescalings per snapshot"
   ]
  },
  {
   "cell_type": "code",
   "execution_count": null,
   "id": "bcd20c69",
   "metadata": {},
   "outputs": [],
   "source": [
    "training_data = Archive3D.get_training_data(Archive3D.emu_params)"
   ]
  },
  {
   "cell_type": "markdown",
   "id": "aa66b428",
   "metadata": {},
   "source": [
    "## GET TESTING DATA"
   ]
  },
  {
   "cell_type": "markdown",
   "id": "468c24df",
   "metadata": {},
   "source": [
    "#### There are 6 test simulations:\n",
    "#### - central simulations (mpg_central): simulations centered at the training Latin hypercube simulations\n",
    "#### - seed simulations (mpg_seed): simulations centered at the training Latin hypercube simulations with different initial conditions\n",
    "#### - growth simulation (mpg_growth): Simulation with a different growth rate than the training simulations\n",
    "#### - neutrinos simulation (mpg_neutrinos): Simulations with massive neutrinos\n",
    "#### - running simulations (mpg_running): Simulation with a different running of the spectral index.\n",
    "#### - reionization simulations (mpg_reio): Simulation with a different HeII reionization history"
   ]
  },
  {
   "cell_type": "code",
   "execution_count": null,
   "id": "18b88c32",
   "metadata": {},
   "outputs": [],
   "source": [
    "central = Archive3D.get_testing_data(\"mpg_central\", force_recompute_plin=True)"
   ]
  },
  {
   "cell_type": "code",
   "execution_count": null,
   "id": "8c7a5bba",
   "metadata": {},
   "outputs": [],
   "source": [
    "neutrinos = Archive3D.get_testing_data(\n",
    "    \"mpg_neutrinos\", force_recompute_plin=True\n",
    ")"
   ]
  },
  {
   "cell_type": "code",
   "execution_count": null,
   "id": "1f65ef63",
   "metadata": {},
   "outputs": [],
   "source": []
  },
  {
   "cell_type": "code",
   "execution_count": null,
   "id": "826b2ad8",
   "metadata": {},
   "outputs": [],
   "source": []
  }
 ],
 "metadata": {
  "jupytext": {
   "formats": "ipynb,py:percent"
  },
  "kernelspec": {
   "display_name": "Python 3 (ipykernel)",
   "language": "python",
   "name": "python3"
  },
  "language_info": {
   "codemirror_mode": {
    "name": "ipython",
    "version": 3
   },
   "file_extension": ".py",
   "mimetype": "text/x-python",
   "name": "python",
   "nbconvert_exporter": "python",
   "pygments_lexer": "ipython3",
   "version": "3.11.5"
  }
 },
 "nbformat": 4,
 "nbformat_minor": 5
}
